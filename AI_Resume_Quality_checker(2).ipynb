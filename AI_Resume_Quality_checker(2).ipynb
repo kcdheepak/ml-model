{
  "nbformat": 4,
  "nbformat_minor": 0,
  "metadata": {
    "colab": {
      "provenance": [],
      "authorship_tag": "ABX9TyOPrw3REK5iHMzL4aWbiNDL",
      "include_colab_link": true
    },
    "kernelspec": {
      "name": "python3",
      "display_name": "Python 3"
    },
    "language_info": {
      "name": "python"
    }
  },
  "cells": [
    {
      "cell_type": "markdown",
      "metadata": {
        "id": "view-in-github",
        "colab_type": "text"
      },
      "source": [
        "<a href=\"https://colab.research.google.com/github/kcdheepak/ml-model/blob/main/AI_Resume_Quality_checker(2).ipynb\" target=\"_parent\"><img src=\"https://colab.research.google.com/assets/colab-badge.svg\" alt=\"Open In Colab\"/></a>"
      ]
    },
    {
      "cell_type": "code",
      "execution_count": 6,
      "metadata": {
        "colab": {
          "base_uri": "https://localhost:8080/"
        },
        "id": "S5NEi5_jPCKQ",
        "outputId": "31a6c9da-e4d5-4d42-8e65-fb7d43703d4f"
      },
      "outputs": [
        {
          "output_type": "stream",
          "name": "stdout",
          "text": [
            "Requirement already satisfied: textstat in /usr/local/lib/python3.11/dist-packages (0.7.5)\n",
            "Requirement already satisfied: pyphen in /usr/local/lib/python3.11/dist-packages (from textstat) (0.17.2)\n",
            "Requirement already satisfied: cmudict in /usr/local/lib/python3.11/dist-packages (from textstat) (1.0.32)\n",
            "Requirement already satisfied: setuptools in /usr/local/lib/python3.11/dist-packages (from textstat) (75.2.0)\n",
            "Requirement already satisfied: importlib-metadata>=5 in /usr/local/lib/python3.11/dist-packages (from cmudict->textstat) (8.7.0)\n",
            "Requirement already satisfied: importlib-resources>=5 in /usr/local/lib/python3.11/dist-packages (from cmudict->textstat) (6.5.2)\n",
            "Requirement already satisfied: zipp>=3.20 in /usr/local/lib/python3.11/dist-packages (from importlib-metadata>=5->cmudict->textstat) (3.21.0)\n"
          ]
        }
      ],
      "source": [
        "!pip install textstat"
      ]
    },
    {
      "cell_type": "code",
      "source": [
        "!apt-get install openjdk-17-jdk -y\n",
        "import os\n",
        "os.environ[\"JAVA_HOME\"] = \"/usr/lib/jvm/java-17-openjdk-amd64\""
      ],
      "metadata": {
        "colab": {
          "base_uri": "https://localhost:8080/"
        },
        "id": "TjHolHiDPueT",
        "outputId": "3665ad7d-f09b-485b-f1c9-2ad3da829b45"
      },
      "execution_count": 7,
      "outputs": [
        {
          "output_type": "stream",
          "name": "stdout",
          "text": [
            "Reading package lists... Done\n",
            "Building dependency tree... Done\n",
            "Reading state information... Done\n",
            "openjdk-17-jdk is already the newest version (17.0.14+7-1~22.04.1).\n",
            "0 upgraded, 0 newly installed, 0 to remove and 34 not upgraded.\n"
          ]
        }
      ]
    },
    {
      "cell_type": "code",
      "source": [
        "# Install required libraries\n",
        "!pip install textstat language-tool-python PyMuPDF matplotlib\n",
        "\n",
        "# Imports\n",
        "import re\n",
        "import textstat\n",
        "import fitz  # PyMuPDF\n",
        "import language_tool_python\n",
        "import matplotlib.pyplot as plt\n",
        "from sklearn.feature_extraction.text import TfidfVectorizer\n",
        "\n",
        "# Upload resume PDF file manually in Colab before running this line\n",
        "# from google.colab import files\n",
        "# uploaded = files.upload()\n",
        "\n",
        "# Extract text from uploaded PDF\n",
        "resume_text = \"\"\"\n",
        "I am a data enthusiast with experience in Python, basic machine learning,\n",
        "and good communication. I enjoy working with data and solving problems.\n",
        "\"\"\"\n",
        "# resume_text = extract_text_from_pdf(\"your_resume.pdf\")  # Optional if reading PDF\n",
        "\n",
        "job_description = \"\"\"\n",
        "We are hiring a Data Scientist with skills in Python, machine learning,\n",
        "data analysis, and good communication abilities.\n",
        "\"\"\"\n",
        "\n",
        "def extract_text_from_pdf(file_path):\n",
        "    doc = fitz.open(file_path)\n",
        "    text = \"\"\n",
        "    for page in doc:\n",
        "        text += page.get_text()\n",
        "    return text\n",
        "\n",
        "def clean_text(text):\n",
        "    text = text.lower()\n",
        "    text = re.sub(r'\\W+', ' ', text)\n",
        "    return text\n",
        "\n",
        "cleaned_resume = clean_text(resume_text)\n",
        "cleaned_job = clean_text(job_description)\n",
        "\n",
        "def keyword_match_score(resume, job):\n",
        "    vectorizer = TfidfVectorizer()\n",
        "    vectors = vectorizer.fit_transform([resume, job])\n",
        "    cosine_sim = (vectors * vectors.T).toarray()[0, 1]\n",
        "    return round(cosine_sim * 100, 2)\n",
        "\n",
        "def get_readability_score(resume):\n",
        "    return textstat.flesch_reading_ease(resume)\n",
        "\n",
        "def suggest_missing_keywords(resume, job):\n",
        "    resume_words = set(resume.split())\n",
        "    job_words = set(job.split())\n",
        "    missing = job_words - resume_words\n",
        "    return list(missing)\n",
        "\n",
        "def grammar_errors(text):\n",
        "    tool = language_tool_python.LanguageTool('en-US')\n",
        "    matches = tool.check(text)\n",
        "    return len(matches)\n",
        "\n",
        "def calculate_resume_score(resume, job):\n",
        "    match = keyword_match_score(resume, job)\n",
        "    readability = get_readability_score(resume)\n",
        "    bonus = 10 if readability > 60 else 0\n",
        "    final_score = min(match + bonus, 100)\n",
        "    return {\n",
        "        \"Keyword Match (%)\": match,\n",
        "        \"Readability Score\": readability,\n",
        "        \"Grammar Bonus\": bonus,\n",
        "        \"Final Resume Score\": final_score\n",
        "    }\n",
        "\n",
        "def generate_feedback(score, missing_keywords, grammar_errors):\n",
        "    feedback = []\n",
        "    if score[\"Final Resume Score\"] < 70:\n",
        "        feedback.append(\"Consider improving keyword matching and readability.\")\n",
        "    if missing_keywords:\n",
        "        feedback.append(f\"Try adding these keywords: {', '.join(missing_keywords[:5])}\")\n",
        "    if grammar_errors > 5:\n",
        "        feedback.append(\"There are many grammar mistakes. Please revise your resume.\")\n",
        "    if not feedback:\n",
        "        feedback.append(\"Your resume looks great. Well done!\")\n",
        "    return \"\\n\".join(feedback)\n",
        "\n",
        "result = calculate_resume_score(cleaned_resume, cleaned_job)\n",
        "missing_keywords = suggest_missing_keywords(cleaned_resume, cleaned_job)\n",
        "grammar_issue_count = grammar_errors(resume_text)\n",
        "feedback = generate_feedback(result, missing_keywords, grammar_issue_count)\n",
        "\n",
        "print(\"\\n====== Resume Quality Report ======\\n\")\n",
        "for key, value in result.items():\n",
        "    print(f\"{key}: {value}\")\n",
        "print(f\"\\nMissing Keywords: {', '.join(missing_keywords)}\")\n",
        "print(f\"Grammar Errors Found: {grammar_issue_count}\")\n",
        "print(\"\\nFeedback Summary:\")\n",
        "print(feedback)\n",
        "print(\"\\n===================================\")\n",
        "\n",
        "# Visual Score Chart\n",
        "labels = list(result.keys())\n",
        "values = list(result.values())\n",
        "plt.figure(figsize=(8, 4))\n",
        "plt.barh(labels, values, color='skyblue')\n",
        "plt.title('Resume Quality Breakdown')\n",
        "plt.xlim(0, 100)\n",
        "plt.show()"
      ],
      "metadata": {
        "colab": {
          "base_uri": "https://localhost:8080/",
          "height": 1000
        },
        "id": "t6CZhjJeP5Yw",
        "outputId": "ba9ff918-545e-424a-f84c-612206939140"
      },
      "execution_count": 8,
      "outputs": [
        {
          "output_type": "stream",
          "name": "stdout",
          "text": [
            "Requirement already satisfied: textstat in /usr/local/lib/python3.11/dist-packages (0.7.5)\n",
            "Requirement already satisfied: language-tool-python in /usr/local/lib/python3.11/dist-packages (2.9.3)\n",
            "Requirement already satisfied: PyMuPDF in /usr/local/lib/python3.11/dist-packages (1.25.5)\n",
            "Requirement already satisfied: matplotlib in /usr/local/lib/python3.11/dist-packages (3.10.0)\n",
            "Requirement already satisfied: pyphen in /usr/local/lib/python3.11/dist-packages (from textstat) (0.17.2)\n",
            "Requirement already satisfied: cmudict in /usr/local/lib/python3.11/dist-packages (from textstat) (1.0.32)\n",
            "Requirement already satisfied: setuptools in /usr/local/lib/python3.11/dist-packages (from textstat) (75.2.0)\n",
            "Requirement already satisfied: requests in /usr/local/lib/python3.11/dist-packages (from language-tool-python) (2.32.3)\n",
            "Requirement already satisfied: tqdm in /usr/local/lib/python3.11/dist-packages (from language-tool-python) (4.67.1)\n",
            "Requirement already satisfied: psutil in /usr/local/lib/python3.11/dist-packages (from language-tool-python) (5.9.5)\n",
            "Requirement already satisfied: toml in /usr/local/lib/python3.11/dist-packages (from language-tool-python) (0.10.2)\n",
            "Requirement already satisfied: contourpy>=1.0.1 in /usr/local/lib/python3.11/dist-packages (from matplotlib) (1.3.2)\n",
            "Requirement already satisfied: cycler>=0.10 in /usr/local/lib/python3.11/dist-packages (from matplotlib) (0.12.1)\n",
            "Requirement already satisfied: fonttools>=4.22.0 in /usr/local/lib/python3.11/dist-packages (from matplotlib) (4.57.0)\n",
            "Requirement already satisfied: kiwisolver>=1.3.1 in /usr/local/lib/python3.11/dist-packages (from matplotlib) (1.4.8)\n",
            "Requirement already satisfied: numpy>=1.23 in /usr/local/lib/python3.11/dist-packages (from matplotlib) (2.0.2)\n",
            "Requirement already satisfied: packaging>=20.0 in /usr/local/lib/python3.11/dist-packages (from matplotlib) (24.2)\n",
            "Requirement already satisfied: pillow>=8 in /usr/local/lib/python3.11/dist-packages (from matplotlib) (11.2.1)\n",
            "Requirement already satisfied: pyparsing>=2.3.1 in /usr/local/lib/python3.11/dist-packages (from matplotlib) (3.2.3)\n",
            "Requirement already satisfied: python-dateutil>=2.7 in /usr/local/lib/python3.11/dist-packages (from matplotlib) (2.9.0.post0)\n",
            "Requirement already satisfied: six>=1.5 in /usr/local/lib/python3.11/dist-packages (from python-dateutil>=2.7->matplotlib) (1.17.0)\n",
            "Requirement already satisfied: importlib-metadata>=5 in /usr/local/lib/python3.11/dist-packages (from cmudict->textstat) (8.7.0)\n",
            "Requirement already satisfied: importlib-resources>=5 in /usr/local/lib/python3.11/dist-packages (from cmudict->textstat) (6.5.2)\n",
            "Requirement already satisfied: charset-normalizer<4,>=2 in /usr/local/lib/python3.11/dist-packages (from requests->language-tool-python) (3.4.1)\n",
            "Requirement already satisfied: idna<4,>=2.5 in /usr/local/lib/python3.11/dist-packages (from requests->language-tool-python) (3.10)\n",
            "Requirement already satisfied: urllib3<3,>=1.21.1 in /usr/local/lib/python3.11/dist-packages (from requests->language-tool-python) (2.4.0)\n",
            "Requirement already satisfied: certifi>=2017.4.17 in /usr/local/lib/python3.11/dist-packages (from requests->language-tool-python) (2025.4.26)\n",
            "Requirement already satisfied: zipp>=3.20 in /usr/local/lib/python3.11/dist-packages (from importlib-metadata>=5->cmudict->textstat) (3.21.0)\n"
          ]
        },
        {
          "output_type": "stream",
          "name": "stderr",
          "text": [
            "Downloading LanguageTool latest: 100%|██████████| 252M/252M [00:11<00:00, 22.1MB/s]\n",
            "INFO:language_tool_python.download_lt:Unzipping /tmp/tmpgjp2khu2.zip to /root/.cache/language_tool_python.\n",
            "INFO:language_tool_python.download_lt:Downloaded https://internal1.languagetool.org/snapshots/LanguageTool-latest-snapshot.zip to /root/.cache/language_tool_python.\n"
          ]
        },
        {
          "output_type": "stream",
          "name": "stdout",
          "text": [
            "\n",
            "====== Resume Quality Report ======\n",
            "\n",
            "Keyword Match (%): 47.38\n",
            "Readability Score: 22.75\n",
            "Grammar Bonus: 0\n",
            "Final Resume Score: 47.38\n",
            "\n",
            "Missing Keywords: are, abilities, scientist, skills, analysis, we, hiring\n",
            "Grammar Errors Found: 0\n",
            "\n",
            "Feedback Summary:\n",
            "Consider improving keyword matching and readability.\n",
            "Try adding these keywords: are, abilities, scientist, skills, analysis\n",
            "\n",
            "===================================\n"
          ]
        },
        {
          "output_type": "display_data",
          "data": {
            "text/plain": [
              "<Figure size 800x400 with 1 Axes>"
            ],
            "image/png": "[encoded data removed]"
          },
          "metadata": {}
        }
      ]
    }
  ]
}
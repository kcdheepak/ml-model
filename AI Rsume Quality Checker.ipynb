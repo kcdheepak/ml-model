{
  "nbformat": 4,
  "nbformat_minor": 0,
  "metadata": {
    "colab": {
      "provenance": [],
      "authorship_tag": "ABX9TyMjhRgRBG3htRByo1MpolqF",
      "include_colab_link": true
    },
    "kernelspec": {
      "name": "python3",
      "display_name": "Python 3"
    },
    "language_info": {
      "name": "python"
    }
  },
  "cells": [
    {
      "cell_type": "markdown",
      "metadata": {
        "id": "view-in-github",
        "colab_type": "text"
      },
      "source": [
        "<a href=\"https://colab.research.google.com/github/kcdheepak/ml-model/blob/main/AI%20Rsume%20Quality%20Checker.ipynb\" target=\"_parent\"><img src=\"https://colab.research.google.com/assets/colab-badge.svg\" alt=\"Open In Colab\"/></a>"
      ]
    },
    {
      "cell_type": "code",
      "source": [
        "!pip install textstat"
      ],
      "metadata": {
        "colab": {
          "base_uri": "https://localhost:8080/"
        },
        "id": "vOwQ_r4VEgJa",
        "outputId": "c5e31c56-f8b3-437d-e1bf-4bf5ade55efb"
      },
      "execution_count": 7,
      "outputs": [
        {
          "output_type": "stream",
          "name": "stdout",
          "text": [
            "Requirement already satisfied: textstat in /usr/local/lib/python3.11/dist-packages (0.7.5)\n",
            "Requirement already satisfied: pyphen in /usr/local/lib/python3.11/dist-packages (from textstat) (0.17.2)\n",
            "Requirement already satisfied: cmudict in /usr/local/lib/python3.11/dist-packages (from textstat) (1.0.32)\n",
            "Requirement already satisfied: setuptools in /usr/local/lib/python3.11/dist-packages (from textstat) (75.2.0)\n",
            "Requirement already satisfied: importlib-metadata>=5 in /usr/local/lib/python3.11/dist-packages (from cmudict->textstat) (8.7.0)\n",
            "Requirement already satisfied: importlib-resources>=5 in /usr/local/lib/python3.11/dist-packages (from cmudict->textstat) (6.5.2)\n",
            "Requirement already satisfied: zipp>=3.20 in /usr/local/lib/python3.11/dist-packages (from importlib-metadata>=5->cmudict->textstat) (3.21.0)\n"
          ]
        }
      ]
    },
    {
      "cell_type": "code",
      "source": [
        "import re\n",
        "import textstat\n",
        "from sklearn.feature_extraction.text import TfidfVectorizer\n",
        "\n",
        "job_description = \"\"\"\n",
        "We are hiring a Data Scientist with skills in Python, machine learning,\n",
        "data analysis, and good communication abilities.\n",
        "\"\"\"\n",
        "\n",
        "resume_text = \"\"\"\n",
        "I am a data enthusiast with experience in Python, basic machine learning,\n",
        "and good communication. I enjoy working with data and solving problems.\n",
        "\"\"\"\n",
        "\n",
        "def clean_text(text):\n",
        "    text = text.lower()\n",
        "    text = re.sub(r'\\W+', ' ', text)\n",
        "    return text\n",
        "\n",
        "cleaned_resume = clean_text(resume_text)\n",
        "cleaned_job = clean_text(job_description)\n",
        "\n",
        "def keyword_match_score(resume, job):\n",
        "    vectorizer = TfidfVectorizer()\n",
        "    vectors = vectorizer.fit_transform([resume, job])\n",
        "    cosine_sim = (vectors * vectors.T).toarray()[0, 1]\n",
        "    return round(cosine_sim * 100, 2)\n",
        "\n",
        "def get_readability_score(resume):\n",
        "    return textstat.flesch_reading_ease(resume)\n",
        "\n",
        "def calculate_resume_score(resume, job):\n",
        "    match = keyword_match_score(resume, job)\n",
        "    readability = get_readability_score(resume)\n",
        "    bonus = 10 if readability > 60 else 0\n",
        "    final_score = min(match + bonus, 100)\n",
        "    return {\n",
        "        \"Keyword Match (%)\": match,\n",
        "        \"Readability Score\": readability,\n",
        "        \"Grammar Bonus\": bonus,\n",
        "        \"Final Resume Score\": final_score\n",
        "    }\n",
        "\n",
        "result = calculate_resume_score(cleaned_resume, cleaned_job)\n",
        "\n",
        "print(\"\\n====== Resume Quality Report ======\\n\")\n",
        "for key, value in result.items():\n",
        "    print(f\"{key}: {value}\")\n",
        "print(\"\\n===================================\")"
      ],
      "metadata": {
        "colab": {
          "base_uri": "https://localhost:8080/"
        },
        "id": "7A9-Ju42Gi8o",
        "outputId": "117732bd-882a-4d07-ab1c-f2e7f7b9a1a9"
      },
      "execution_count": 8,
      "outputs": [
        {
          "output_type": "stream",
          "name": "stdout",
          "text": [
            "\n",
            "====== Resume Quality Report ======\n",
            "\n",
            "Keyword Match (%): 47.38\n",
            "Readability Score: 22.75\n",
            "Grammar Bonus: 0\n",
            "Final Resume Score: 47.38\n",
            "\n",
            "===================================\n"
          ]
        }
      ]
    }
  ]
}